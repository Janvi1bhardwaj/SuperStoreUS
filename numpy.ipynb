{
 "cells": [
  {
   "cell_type": "code",
   "execution_count": 2,
   "id": "2548ec54-4b2d-4f83-83ff-6a19427aebf1",
   "metadata": {},
   "outputs": [
    {
     "name": "stdout",
     "output_type": "stream",
     "text": [
      "[1 2 3 4 5]\n",
      "<class 'numpy.ndarray'>\n"
     ]
    }
   ],
   "source": [
    "import numpy as np\n",
    "x=np.array([1,2,3,4,5])   # less memory,faster,convinent use,mathematical operation\n",
    "print(x)\n",
    "print(type(x))"
   ]
  },
  {
   "cell_type": "code",
   "execution_count": 3,
   "id": "3ab3e925-8d5b-4e22-88ff-4a77077a13a6",
   "metadata": {},
   "outputs": [
    {
     "name": "stdout",
     "output_type": "stream",
     "text": [
      "[1, 2, 3, 4]\n",
      "<class 'list'>\n"
     ]
    }
   ],
   "source": [
    "x=[1,2,3,4]\n",
    "print(x)\n",
    "print(type(x))"
   ]
  },
  {
   "cell_type": "code",
   "execution_count": 6,
   "id": "802ee0a9-71c9-448f-84a0-7d2a7cdd0ce7",
   "metadata": {},
   "outputs": [
    {
     "name": "stdout",
     "output_type": "stream",
     "text": [
      "1.09 µs ± 81.1 ns per loop (mean ± std. dev. of 7 runs, 100,000 loops each)\n"
     ]
    }
   ],
   "source": [
    "%timeit [j**4 for j in range(1,9)]"
   ]
  },
  {
   "cell_type": "code",
   "execution_count": 7,
   "id": "1f950ca1-56d6-4bf1-bfea-8ff7fd2fdffb",
   "metadata": {},
   "outputs": [
    {
     "name": "stdout",
     "output_type": "stream",
     "text": [
      "2.64 µs ± 108 ns per loop (mean ± std. dev. of 7 runs, 100,000 loops each)\n"
     ]
    }
   ],
   "source": [
    "%timeit np.arange(1,9)**4"
   ]
  },
  {
   "cell_type": "markdown",
   "id": "a51605f1-8363-4338-9f81-2012e03b4604",
   "metadata": {},
   "source": [
    "# create array"
   ]
  },
  {
   "cell_type": "code",
   "execution_count": 15,
   "id": "d4c35048-3398-4cbd-8a62-10bff69de9e3",
   "metadata": {},
   "outputs": [
    {
     "name": "stdout",
     "output_type": "stream",
     "text": [
      "[1 2 3 4 5]\n",
      "1\n"
     ]
    }
   ],
   "source": [
    "x=np.array([1,2,3,4,5])   \n",
    "print(x)\n",
    "x\n",
    "print(x.ndim)"
   ]
  },
  {
   "cell_type": "code",
   "execution_count": 12,
   "id": "13f497ed-3f71-4f72-8d46-c7f27f4541aa",
   "metadata": {},
   "outputs": [
    {
     "name": "stdout",
     "output_type": "stream",
     "text": [
      "<class 'numpy.ndarray'>\n"
     ]
    }
   ],
   "source": [
    "print(type(x))"
   ]
  },
  {
   "cell_type": "code",
   "execution_count": 14,
   "id": "017c724b-65de-482b-bf12-60aab6b7197b",
   "metadata": {},
   "outputs": [
    {
     "name": "stdin",
     "output_type": "stream",
     "text": [
      "enter value 2\n",
      "enter value 3\n",
      "enter value 4\n",
      "enter value 5\n"
     ]
    },
    {
     "name": "stdout",
     "output_type": "stream",
     "text": [
      "[2 3 4 5]\n"
     ]
    }
   ],
   "source": [
    "l=[]\n",
    "for i in range(1,5):\n",
    "    a=int(input(\"enter value\"))\n",
    "    l.append(a)\n",
    "print(np.array(l))"
   ]
  },
  {
   "cell_type": "markdown",
   "id": "09aa3aef-a80e-4b4f-9462-a4c3d528ba4a",
   "metadata": {},
   "source": [
    "# dimension array"
   ]
  },
  {
   "cell_type": "code",
   "execution_count": 16,
   "id": "d22f6227-ff85-44a3-9b30-d1aad46de09c",
   "metadata": {},
   "outputs": [
    {
     "name": "stdout",
     "output_type": "stream",
     "text": [
      "[[1 2 3 4]\n",
      " [5 6 7 8]]\n",
      "2\n"
     ]
    }
   ],
   "source": [
    "x2=np.array([[1,2,3,4],[5,6,7,8]])\n",
    "print(x2)\n",
    "print(x2.ndim)"
   ]
  },
  {
   "cell_type": "code",
   "execution_count": 18,
   "id": "ad4198b9-bf19-4ee7-8871-f434d4fe3dc1",
   "metadata": {},
   "outputs": [
    {
     "name": "stdout",
     "output_type": "stream",
     "text": [
      "[[[ 1  2  3  4]\n",
      "  [ 5  6  7  8]\n",
      "  [ 9 10 11 12]]]\n",
      "3\n"
     ]
    }
   ],
   "source": [
    "x2=np.array([[[1,2,3,4],[5,6,7,8],[9,10,11,12]]])\n",
    "print(x2)\n",
    "print(x2.ndim)"
   ]
  },
  {
   "cell_type": "raw",
   "id": "0fa0394c-2f5b-44a1-91c8-b4f9afcb2dd2",
   "metadata": {},
   "source": [
    "x2=np.array([1,2,3,4],ndim=10)\n",
    "print(x2)\n",
    "print(x2.ndim)"
   ]
  },
  {
   "cell_type": "code",
   "execution_count": 22,
   "id": "dd9f9816-b561-47a0-a324-6862c619f501",
   "metadata": {},
   "outputs": [
    {
     "name": "stdout",
     "output_type": "stream",
     "text": [
      "[0. 0. 0. 0.]\n",
      "\n",
      "[[0. 0. 0. 0.]\n",
      " [0. 0. 0. 0.]\n",
      " [0. 0. 0. 0.]]\n"
     ]
    }
   ],
   "source": [
    "ar_zero=np.zeros(4)\n",
    "ar_zero1=np.zeros((3,4))\n",
    "print(ar_zero)\n",
    "print()\n",
    "print(ar_zero1)"
   ]
  },
  {
   "cell_type": "code",
   "execution_count": 23,
   "id": "9b7ff62d-c98f-40c1-996f-a5e7a8d65c7c",
   "metadata": {},
   "outputs": [
    {
     "name": "stdout",
     "output_type": "stream",
     "text": [
      "[1. 1. 1. 1.]\n",
      "\n",
      "[[1. 1. 1. 1.]\n",
      " [1. 1. 1. 1.]\n",
      " [1. 1. 1. 1.]]\n"
     ]
    }
   ],
   "source": [
    "ar_one=np.ones(4)\n",
    "ar_one1=np.ones((3,4))\n",
    "print(ar_one)\n",
    "print()\n",
    "print(ar_one1)"
   ]
  },
  {
   "cell_type": "code",
   "execution_count": 24,
   "id": "b182db62-694e-49b4-a3c7-67611e37586e",
   "metadata": {},
   "outputs": [
    {
     "name": "stdout",
     "output_type": "stream",
     "text": [
      "[1. 1. 1. 1.]\n"
     ]
    }
   ],
   "source": [
    "ar_empty=np.empty(4)\n",
    "print(ar_empty)"
   ]
  },
  {
   "cell_type": "code",
   "execution_count": 25,
   "id": "6b2d37fd-7432-4ed0-a50f-062a8dc62c7b",
   "metadata": {},
   "outputs": [
    {
     "name": "stdout",
     "output_type": "stream",
     "text": [
      "[0 1 2 3]\n"
     ]
    }
   ],
   "source": [
    "ar_ran=np.arange(4)\n",
    "print(ar_ran)"
   ]
  },
  {
   "cell_type": "code",
   "execution_count": 26,
   "id": "7a2e91ee-475b-4907-86a5-bf893b245d73",
   "metadata": {},
   "outputs": [
    {
     "name": "stdout",
     "output_type": "stream",
     "text": [
      "[[1. 0. 0.]\n",
      " [0. 1. 0.]\n",
      " [0. 0. 1.]]\n"
     ]
    }
   ],
   "source": [
    "ar_dia=np.eye(3)\n",
    "print(ar_dia)"
   ]
  },
  {
   "cell_type": "code",
   "execution_count": 27,
   "id": "8906681e-291c-49ac-ba04-e4892045f4bd",
   "metadata": {},
   "outputs": [
    {
     "name": "stdout",
     "output_type": "stream",
     "text": [
      "[[1. 0. 0. 0. 0.]\n",
      " [0. 1. 0. 0. 0.]\n",
      " [0. 0. 1. 0. 0.]]\n"
     ]
    }
   ],
   "source": [
    "ar_dia=np.eye(3,5)\n",
    "print(ar_dia)"
   ]
  },
  {
   "cell_type": "code",
   "execution_count": 28,
   "id": "13b64bca-a4af-4de7-8362-3feeb09b8c44",
   "metadata": {},
   "outputs": [
    {
     "data": {
      "text/plain": [
       "array([ 1.  ,  3.25,  5.5 ,  7.75, 10.  ])"
      ]
     },
     "execution_count": 28,
     "metadata": {},
     "output_type": "execute_result"
    }
   ],
   "source": [
    "ar_lin=np.linspace(1,10,num=5)\n",
    "ar_lin"
   ]
  },
  {
   "cell_type": "markdown",
   "id": "6398c64e-fd7c-46f8-8daa-5b4871f82015",
   "metadata": {},
   "source": [
    "# create by random functions"
   ]
  },
  {
   "cell_type": "code",
   "execution_count": 30,
   "id": "cdad5ae6-d708-491b-a948-ab2553228cdd",
   "metadata": {},
   "outputs": [
    {
     "data": {
      "text/plain": [
       "array([0.72968959, 0.54278784, 0.12335739, 0.88251296])"
      ]
     },
     "execution_count": 30,
     "metadata": {},
     "output_type": "execute_result"
    }
   ],
   "source": [
    "d=np.random.rand(4)\n",
    "d    # random number"
   ]
  },
  {
   "cell_type": "code",
   "execution_count": 31,
   "id": "cd91d7d7-dfac-4996-b3ba-93f889339bc9",
   "metadata": {},
   "outputs": [
    {
     "data": {
      "text/plain": [
       "array([[0.10881577, 0.43934857, 0.68013909, 0.06738273, 0.08102559],\n",
       "       [0.36063056, 0.33873059, 0.78567646, 0.91678126, 0.56178105],\n",
       "       [0.00926255, 0.31109073, 0.26852118, 0.03296273, 0.93052815],\n",
       "       [0.5741509 , 0.92749986, 0.95377997, 0.68092017, 0.36266681]])"
      ]
     },
     "execution_count": 31,
     "metadata": {},
     "output_type": "execute_result"
    }
   ],
   "source": [
    "d=np.random.rand(4,5)\n",
    "d"
   ]
  },
  {
   "cell_type": "code",
   "execution_count": 32,
   "id": "f95cc895-48f9-44ae-8c09-5cd5a183edd0",
   "metadata": {},
   "outputs": [
    {
     "data": {
      "text/plain": [
       "array([ 0.63441313, -1.0408631 , -1.21846285,  0.06364919])"
      ]
     },
     "execution_count": 32,
     "metadata": {},
     "output_type": "execute_result"
    }
   ],
   "source": [
    "d=np.random.randn(4)   #random number near to 0 both positive n negative\n",
    "d"
   ]
  },
  {
   "cell_type": "code",
   "execution_count": 33,
   "id": "12594f07-9290-4c08-9a3d-e9241a749790",
   "metadata": {},
   "outputs": [
    {
     "data": {
      "text/plain": [
       "array([0.56108138, 0.18234991, 0.66821133, 0.43768625])"
      ]
     },
     "execution_count": 33,
     "metadata": {},
     "output_type": "execute_result"
    }
   ],
   "source": [
    "d=np.random.ranf(4)     # random number [0.0,1.0)\n",
    "d"
   ]
  },
  {
   "cell_type": "code",
   "execution_count": 34,
   "id": "35305beb-9dce-4115-8129-f40efea2b244",
   "metadata": {},
   "outputs": [
    {
     "data": {
      "text/plain": [
       "array([6, 5, 5, 2])"
      ]
     },
     "execution_count": 34,
     "metadata": {},
     "output_type": "execute_result"
    }
   ],
   "source": [
    "d=np.random.randint(2,9,4)  # random number btw min max\n",
    "d"
   ]
  },
  {
   "cell_type": "markdown",
   "id": "5860a5c7-2cbd-4103-97cb-a86d7e744d4c",
   "metadata": {},
   "source": [
    "# dataype"
   ]
  },
  {
   "cell_type": "code",
   "execution_count": 36,
   "id": "845382e2-4577-447e-ab67-4d93d135c5c8",
   "metadata": {},
   "outputs": [
    {
     "name": "stdout",
     "output_type": "stream",
     "text": [
      "int32\n"
     ]
    }
   ],
   "source": [
    "x=np.array([1,2,3,4,5])   \n",
    "print(x.dtype)"
   ]
  },
  {
   "cell_type": "code",
   "execution_count": 37,
   "id": "0b6b4eb4-b2ab-4132-b8f2-41983542f327",
   "metadata": {},
   "outputs": [
    {
     "name": "stdout",
     "output_type": "stream",
     "text": [
      "float64\n"
     ]
    }
   ],
   "source": [
    "x=np.array([1.0,2.4,3.6,4.7,5.0])   \n",
    "print(x.dtype)"
   ]
  },
  {
   "cell_type": "code",
   "execution_count": 38,
   "id": "a2326706-2738-4dae-9470-86fad87fc8bb",
   "metadata": {},
   "outputs": [
    {
     "name": "stdout",
     "output_type": "stream",
     "text": [
      "<U1\n"
     ]
    }
   ],
   "source": [
    "x=np.array([\"a\",\"b\",\"c\",\"d\"])   \n",
    "print(x.dtype)"
   ]
  },
  {
   "cell_type": "code",
   "execution_count": 39,
   "id": "0ef78a5c-a102-45a8-8f8a-a474d5e4c86b",
   "metadata": {},
   "outputs": [
    {
     "name": "stdout",
     "output_type": "stream",
     "text": [
      "<U11\n"
     ]
    }
   ],
   "source": [
    "x=np.array([\"a\",\"b\",\"c\",\"d\",1,2,3,4,5])   \n",
    "print(x.dtype)"
   ]
  },
  {
   "cell_type": "code",
   "execution_count": 40,
   "id": "82e77258-1b77-46f4-aab9-276e7c9c8853",
   "metadata": {},
   "outputs": [
    {
     "name": "stdout",
     "output_type": "stream",
     "text": [
      "int8\n"
     ]
    }
   ],
   "source": [
    "x=np.array([1,2,3,4,5],dtype=np.int8)   \n",
    "print(x.dtype)"
   ]
  },
  {
   "cell_type": "code",
   "execution_count": 41,
   "id": "87eadecf-8668-4dd1-8dbf-8d26db5acb42",
   "metadata": {},
   "outputs": [
    {
     "name": "stdout",
     "output_type": "stream",
     "text": [
      "float32\n"
     ]
    }
   ],
   "source": [
    "x=np.array([1,2,3,4,5],dtype=\"f\")   \n",
    "print(x.dtype)"
   ]
  },
  {
   "cell_type": "code",
   "execution_count": 43,
   "id": "14f888be-48d6-4a65-b86d-7677ad3908ec",
   "metadata": {},
   "outputs": [
    {
     "name": "stdout",
     "output_type": "stream",
     "text": [
      "[1 2 3 4 5]\n",
      "int32\n",
      "[1. 2. 3. 4. 5.]\n",
      "float32\n"
     ]
    }
   ],
   "source": [
    "x=np.array([1,2,3,4,5])\n",
    "new=np.float32(x)\n",
    "\n",
    "print(x)\n",
    "print(x.dtype)\n",
    "\n",
    "print(new)\n",
    "print(new.dtype)"
   ]
  },
  {
   "cell_type": "code",
   "execution_count": 44,
   "id": "a0a93ed5-91e3-4c2b-92b3-afa8e27d620a",
   "metadata": {},
   "outputs": [
    {
     "data": {
      "text/plain": [
       "array([1., 2., 3., 4., 5.])"
      ]
     },
     "execution_count": 44,
     "metadata": {},
     "output_type": "execute_result"
    }
   ],
   "source": [
    "x=np.array([1,2,3,4,5])\n",
    "x1=x.astype(float)\n",
    "x1"
   ]
  },
  {
   "cell_type": "markdown",
   "id": "2174c90e-0708-474d-ac4f-25224397cfed",
   "metadata": {},
   "source": [
    "# shape n reshape"
   ]
  },
  {
   "cell_type": "code",
   "execution_count": 45,
   "id": "3fc5409d-aa62-40ca-9c7c-28bde2078587",
   "metadata": {},
   "outputs": [
    {
     "name": "stdout",
     "output_type": "stream",
     "text": [
      "[[1 2 3 4]\n",
      " [5 6 7 8]]\n",
      "(2, 4)\n"
     ]
    }
   ],
   "source": [
    "x2=np.array([[1,2,3,4],[5,6,7,8]])\n",
    "print(x2)\n",
    "print(x2.shape)"
   ]
  },
  {
   "cell_type": "raw",
   "id": "41ff55de-e318-4c24-a80d-0100d0a0fb7b",
   "metadata": {},
   "source": [
    "x=np.array([1,2,3,4,5],ndim=4)\n",
    "print(x)\n",
    "print(x.ndim)\n",
    "print(x.shape)"
   ]
  },
  {
   "cell_type": "code",
   "execution_count": 54,
   "id": "71c2dfe9-a8b3-4f3c-b9fe-911ae38d6850",
   "metadata": {},
   "outputs": [
    {
     "name": "stdout",
     "output_type": "stream",
     "text": [
      "1\n",
      "[[ 1  2  3  4]\n",
      " [ 5  6  7  8]\n",
      " [ 9 10 11 12]]\n",
      "2\n",
      "[[[ 1  2]\n",
      "  [ 3  4]\n",
      "  [ 5  6]]\n",
      "\n",
      " [[ 7  8]\n",
      "  [ 9 10]\n",
      "  [11 12]]]\n"
     ]
    }
   ],
   "source": [
    "x=np.array([1,2,3,4,5,6,7,8,9,10,11,12])\n",
    "v=x.reshape(3,4)\n",
    "v1=x.reshape(2,3,2)\n",
    "\n",
    "print(x.ndim)\n",
    "print(v)\n",
    "print(v.ndim)\n",
    "print(v1)"
   ]
  },
  {
   "cell_type": "code",
   "execution_count": 55,
   "id": "681f8919-f98b-4139-9cb0-fe402589ce26",
   "metadata": {},
   "outputs": [
    {
     "name": "stdout",
     "output_type": "stream",
     "text": [
      "[ 1  2  3  4  5  6  7  8  9 10 11 12]\n",
      "1\n"
     ]
    }
   ],
   "source": [
    "one=v.reshape(-1)\n",
    "print(one)\n",
    "print(one.ndim)"
   ]
  },
  {
   "cell_type": "markdown",
   "id": "65c4faa6-9346-4c35-b555-20240d41412f",
   "metadata": {},
   "source": [
    "# arithmetic operation"
   ]
  },
  {
   "cell_type": "code",
   "execution_count": 63,
   "id": "00b9deea-44e8-437e-942c-fd5077676c1a",
   "metadata": {},
   "outputs": [
    {
     "name": "stdout",
     "output_type": "stream",
     "text": [
      "[ 6  8 10 12]\n"
     ]
    }
   ],
   "source": [
    "x1=np.array([1,2,3,4])\n",
    "x2=np.array([5,6,7,8])\n",
    "\n",
    "x_add=np.add(x1,x2)\n",
    "print(x_add)"
   ]
  },
  {
   "cell_type": "code",
   "execution_count": 65,
   "id": "095c3cef-f744-4d05-b4af-de4e8e46016e",
   "metadata": {},
   "outputs": [
    {
     "name": "stdout",
     "output_type": "stream",
     "text": [
      "[-4 -4 -4 -4]\n"
     ]
    }
   ],
   "source": [
    "x1=np.array([1,2,3,4])\n",
    "x2=np.array([5,6,7,8])\n",
    "x_sub=np.subtract(x1,x2)\n",
    "print(x_sub)"
   ]
  },
  {
   "cell_type": "code",
   "execution_count": 66,
   "id": "dcc5a306-22d4-4816-be36-61f5f61df247",
   "metadata": {},
   "outputs": [
    {
     "name": "stdout",
     "output_type": "stream",
     "text": [
      "[ 5 12 21 32]\n"
     ]
    }
   ],
   "source": [
    "x1=np.array([1,2,3,4])\n",
    "x2=np.array([5,6,7,8])\n",
    "x_mul=np.multiply(x1,x2)\n",
    "print(x_mul)"
   ]
  },
  {
   "cell_type": "code",
   "execution_count": 67,
   "id": "8531d074-1ccf-4e9d-b69d-ab1032171be2",
   "metadata": {},
   "outputs": [
    {
     "name": "stdout",
     "output_type": "stream",
     "text": [
      "[0.2        0.33333333 0.42857143 0.5       ]\n"
     ]
    }
   ],
   "source": [
    "x1=np.array([1,2,3,4])\n",
    "x2=np.array([5,6,7,8])\n",
    "x_div=np.divide(x1,x2)\n",
    "print(x_div)"
   ]
  },
  {
   "cell_type": "code",
   "execution_count": 68,
   "id": "fe067669-feb3-411e-bb40-d2ebca3cf311",
   "metadata": {},
   "outputs": [
    {
     "name": "stdout",
     "output_type": "stream",
     "text": [
      "[1 2 3 4]\n"
     ]
    }
   ],
   "source": [
    "x1=np.array([1,2,3,4])\n",
    "x2=np.array([5,6,7,8])\n",
    "x_mod=np.mod(x1,x2)\n",
    "print(x_mod)"
   ]
  },
  {
   "cell_type": "code",
   "execution_count": 69,
   "id": "b3a73baf-7b5e-4f5a-a1c8-6b146fa5c7f5",
   "metadata": {},
   "outputs": [
    {
     "name": "stdout",
     "output_type": "stream",
     "text": [
      "[    1    64  2187 65536]\n"
     ]
    }
   ],
   "source": [
    "x1=np.array([1,2,3,4])\n",
    "x2=np.array([5,6,7,8])\n",
    "x_pow=np.power(x1,x2)\n",
    "print(x_pow)"
   ]
  },
  {
   "cell_type": "code",
   "execution_count": 70,
   "id": "efb4c089-1b2f-4e3c-9b5b-900c114e0e76",
   "metadata": {},
   "outputs": [
    {
     "name": "stdout",
     "output_type": "stream",
     "text": [
      "[1 0 0 0]\n"
     ]
    }
   ],
   "source": [
    "x1=np.array([1,2,3,4])\n",
    "x_rec=np.reciprocal(x1)\n",
    "print(x_rec)"
   ]
  },
  {
   "cell_type": "code",
   "execution_count": 75,
   "id": "ec24ffdf-6643-4a96-8699-fada79b493c0",
   "metadata": {},
   "outputs": [
    {
     "name": "stdout",
     "output_type": "stream",
     "text": [
      "[[1 2 3 4]\n",
      " [5 6 7 8]]\n",
      "\n",
      "[[5 6 7 8]\n",
      " [1 2 3 4]]\n",
      "\n",
      "[[ 6  8 10 12]\n",
      " [ 6  8 10 12]]\n"
     ]
    }
   ],
   "source": [
    "x1=np.array([[1,2,3,4],[5,6,7,8]])\n",
    "x2=np.array([[5,6,7,8],[1,2,3,4]])\n",
    "x_add=np.add(x1,x2)\n",
    "print(x1)\n",
    "print()\n",
    "print(x2)\n",
    "print()\n",
    "print(x_add)"
   ]
  },
  {
   "cell_type": "markdown",
   "id": "7f9c43d0-260e-4a1f-ac3d-7ed9f38ffbd2",
   "metadata": {},
   "source": [
    "# max min argmin sqrt sin cos cumsum"
   ]
  },
  {
   "cell_type": "code",
   "execution_count": 82,
   "id": "4c2cf02b-0725-44dd-a54d-9f6cb31153b2",
   "metadata": {},
   "outputs": [
    {
     "name": "stdout",
     "output_type": "stream",
     "text": [
      "max 4\n",
      "position 3\n"
     ]
    }
   ],
   "source": [
    "x1=np.array([1,2,3,4])\n",
    "print(\"max\",np.max(x1))\n",
    "print(\"position\",np.argmax(x1))"
   ]
  },
  {
   "cell_type": "code",
   "execution_count": 83,
   "id": "62fb62a9-7efe-4515-8c81-f47bc24bdfbd",
   "metadata": {},
   "outputs": [
    {
     "name": "stdout",
     "output_type": "stream",
     "text": [
      "min 1\n",
      "position 0\n"
     ]
    }
   ],
   "source": [
    "x1=np.array([1,2,3,4])\n",
    "print(\"min\",np.min(x1))\n",
    "print(\"position\",np.argmin(x1))"
   ]
  },
  {
   "cell_type": "code",
   "execution_count": 87,
   "id": "7424a7ec-af24-45d0-a47f-c4d1a69a5e6d",
   "metadata": {},
   "outputs": [
    {
     "name": "stdout",
     "output_type": "stream",
     "text": [
      "[5 6 7 8]\n",
      "[4 8]\n"
     ]
    }
   ],
   "source": [
    "x1=np.array([[1,2,3,4],[5,6,7,8]])  # column 1 and row 0\n",
    "print(np.max(x1,axis=0))\n",
    "print(np.max(x1,axis=1))"
   ]
  },
  {
   "cell_type": "code",
   "execution_count": 91,
   "id": "5c83fa08-c798-4284-b53a-10ec6c61e4e5",
   "metadata": {},
   "outputs": [
    {
     "name": "stdout",
     "output_type": "stream",
     "text": [
      "[1.         1.41421356 1.73205081 2.        ]\n"
     ]
    }
   ],
   "source": [
    "x1=np.array([1,2,3,4])\n",
    "print(np.sqrt(x1))"
   ]
  },
  {
   "cell_type": "code",
   "execution_count": 93,
   "id": "62db052b-a6b3-47d2-aeda-c9ce2d594bd6",
   "metadata": {},
   "outputs": [
    {
     "name": "stdout",
     "output_type": "stream",
     "text": [
      "[ 0.84147098  0.90929743  0.14112001 -0.7568025 ]\n",
      "[ 0.54030231 -0.41614684 -0.9899925  -0.65364362]\n",
      "[ 1  3  6 10]\n"
     ]
    }
   ],
   "source": [
    "x1=np.array([1,2,3,4])\n",
    "print(np.sin(x1))\n",
    "print(np.cos(x1))\n",
    "print(np.cumsum(x1))"
   ]
  },
  {
   "cell_type": "markdown",
   "id": "186abf44-6ed9-4930-b7a4-e36bb6614bf7",
   "metadata": {},
   "source": [
    "# broadcasting\n",
    "error due to diff len of 2 array"
   ]
  },
  {
   "cell_type": "raw",
   "id": "e67c493f-8511-42c1-ac04-bdb2064bd81d",
   "metadata": {},
   "source": [
    "same dimension\n",
    "1 value must be 1    eg 2*1 and 2*3 "
   ]
  },
  {
   "cell_type": "code",
   "execution_count": 6,
   "id": "47c9abf7-30f4-4f75-8cb4-0e12dfce02d4",
   "metadata": {},
   "outputs": [
    {
     "name": "stdout",
     "output_type": "stream",
     "text": [
      "(3,)\n",
      "[1 2 3]\n",
      "\n",
      "(3, 1)\n",
      "[[1]\n",
      " [2]\n",
      " [3]]\n",
      "\n",
      "[[2 3 4]\n",
      " [3 4 5]\n",
      " [4 5 6]]\n"
     ]
    }
   ],
   "source": [
    "import numpy as np\n",
    "v1=np.array([1,2,3])\n",
    "print(v1.shape)\n",
    "print(v1)\n",
    "print()\n",
    "v2=np.array([[1],[2],[3]])\n",
    "print(v2.shape)\n",
    "print(v2)\n",
    "print()\n",
    "print(v1+v2)"
   ]
  },
  {
   "cell_type": "markdown",
   "id": "1c44ddbb-7a8e-4824-bac8-9621ad9b740f",
   "metadata": {},
   "source": [
    "# indexing n slicing"
   ]
  },
  {
   "cell_type": "code",
   "execution_count": 10,
   "id": "4632ead1-623d-4856-800d-7e600cfbc46d",
   "metadata": {},
   "outputs": [
    {
     "name": "stdout",
     "output_type": "stream",
     "text": [
      "[1 2 3 4 5 6]\n",
      "1\n",
      "6\n"
     ]
    }
   ],
   "source": [
    "x=np.array([1,2,3,4,5,6])\n",
    "print(x)\n",
    "print(x.ndim)\n",
    "print(x[5])"
   ]
  },
  {
   "cell_type": "code",
   "execution_count": 11,
   "id": "bf52133a-5cc7-4a73-884d-c2ba7abd31da",
   "metadata": {},
   "outputs": [
    {
     "name": "stdout",
     "output_type": "stream",
     "text": [
      "[[ 1  2  3  4  5  6]\n",
      " [ 7  8  9 10 11 12]]\n",
      "2\n",
      "4\n"
     ]
    }
   ],
   "source": [
    "x=np.array([[1,2,3,4,5,6],[7,8,9,10,11,12]])\n",
    "print(x)\n",
    "print(x.ndim)\n",
    "print(x[0,3])"
   ]
  },
  {
   "cell_type": "code",
   "execution_count": 12,
   "id": "5ab69b25-15cb-4265-8a12-87da7c654445",
   "metadata": {},
   "outputs": [
    {
     "name": "stdout",
     "output_type": "stream",
     "text": [
      "[[[ 1  2  3  4  5  6]\n",
      "  [ 7  8  9 10 11 12]]]\n",
      "3\n",
      "6\n"
     ]
    }
   ],
   "source": [
    "x=np.array([[[1,2,3,4,5,6],[7,8,9,10,11,12]]])\n",
    "print(x)\n",
    "print(x.ndim)\n",
    "print(x[0,0,5])"
   ]
  },
  {
   "cell_type": "code",
   "execution_count": 16,
   "id": "332d3c07-40a6-40ee-b816-6d2245d6f689",
   "metadata": {},
   "outputs": [
    {
     "name": "stdout",
     "output_type": "stream",
     "text": [
      "[2 4 6]\n",
      "1\n"
     ]
    }
   ],
   "source": [
    "x=np.array([1,2,3,4,5,6])\n",
    "print(x[1::2])\n",
    "print(x.ndim)"
   ]
  },
  {
   "cell_type": "code",
   "execution_count": 17,
   "id": "91e903b2-8fe4-473d-aec2-75f78cd5059c",
   "metadata": {},
   "outputs": [
    {
     "name": "stdout",
     "output_type": "stream",
     "text": [
      "[3 4 5]\n",
      "2\n"
     ]
    }
   ],
   "source": [
    "x=np.array([[1,2,3,4,5,6],[7,8,9,10,11,12]])\n",
    "print(x[0,2:5])\n",
    "print(x.ndim)"
   ]
  },
  {
   "cell_type": "code",
   "execution_count": 18,
   "id": "d83a6360-159c-499a-ac00-943299314799",
   "metadata": {},
   "outputs": [
    {
     "name": "stdout",
     "output_type": "stream",
     "text": [
      "[3 4 5]\n",
      "3\n"
     ]
    }
   ],
   "source": [
    "x=np.array([[[1,2,3,4,5,6],[7,8,9,10,11,12]]])\n",
    "print(x[0,0,2:5])\n",
    "print(x.ndim)"
   ]
  },
  {
   "cell_type": "markdown",
   "id": "4702eca1-f9fe-4de1-83d3-5e88e7d4d254",
   "metadata": {},
   "source": [
    "# iterating"
   ]
  },
  {
   "cell_type": "code",
   "execution_count": 19,
   "id": "ba97a334-3a8a-4d33-acf2-874df41bd716",
   "metadata": {},
   "outputs": [
    {
     "name": "stdout",
     "output_type": "stream",
     "text": [
      "1\n",
      "2\n",
      "3\n",
      "4\n",
      "5\n",
      "6\n"
     ]
    }
   ],
   "source": [
    "x=np.array([1,2,3,4,5,6])\n",
    "for i in x:\n",
    "    print(i)"
   ]
  },
  {
   "cell_type": "code",
   "execution_count": 21,
   "id": "c238d90f-7a98-46e8-b7a5-14fd195f134a",
   "metadata": {},
   "outputs": [
    {
     "name": "stdout",
     "output_type": "stream",
     "text": [
      "1\n",
      "2\n",
      "3\n",
      "4\n",
      "5\n",
      "6\n",
      "7\n",
      "8\n",
      "9\n",
      "10\n",
      "11\n",
      "12\n"
     ]
    }
   ],
   "source": [
    "x=np.array([[1,2,3,4,5,6],[7,8,9,10,11,12]])\n",
    "for i in x:\n",
    "    for j in i:\n",
    "        print(j)"
   ]
  },
  {
   "cell_type": "code",
   "execution_count": 23,
   "id": "4d93a0bb-e875-479e-8160-4c8d3c36e3be",
   "metadata": {},
   "outputs": [
    {
     "name": "stdout",
     "output_type": "stream",
     "text": [
      "1\n",
      "2\n",
      "3\n",
      "4\n",
      "5\n",
      "6\n",
      "7\n",
      "8\n",
      "9\n",
      "10\n",
      "11\n",
      "12\n"
     ]
    }
   ],
   "source": [
    "x=np.array([[[1,2,3,4,5,6],[7,8,9,10,11,12]]])\n",
    "for i in x:\n",
    "    for j in i:\n",
    "        for k in j:\n",
    "            print(k)"
   ]
  },
  {
   "cell_type": "code",
   "execution_count": 27,
   "id": "07fe21f9-0eac-48fd-adde-809955fc2799",
   "metadata": {},
   "outputs": [
    {
     "name": "stdout",
     "output_type": "stream",
     "text": [
      "1\n",
      "2\n",
      "3\n",
      "4\n",
      "5\n",
      "6\n",
      "7\n",
      "8\n",
      "9\n",
      "10\n",
      "11\n",
      "12\n"
     ]
    }
   ],
   "source": [
    "x=np.array([[[1,2,3,4,5,6],[7,8,9,10,11,12]]])\n",
    "for i in np.nditer(x):\n",
    "    print(i)"
   ]
  },
  {
   "cell_type": "code",
   "execution_count": 26,
   "id": "d26b501c-5351-458f-b29d-981ab82da1bc",
   "metadata": {},
   "outputs": [
    {
     "name": "stdout",
     "output_type": "stream",
     "text": [
      "b'1'\n",
      "b'2'\n",
      "b'3'\n",
      "b'4'\n",
      "b'5'\n",
      "b'6'\n",
      "b'7'\n",
      "b'8'\n",
      "b'9'\n",
      "b'10'\n",
      "b'11'\n",
      "b'12'\n"
     ]
    }
   ],
   "source": [
    "x=np.array([[[1,2,3,4,5,6],[7,8,9,10,11,12]]])\n",
    "for i in np.nditer(x,flags=[\"buffered\"],op_dtypes=[\"S\"]):\n",
    "    print(i)"
   ]
  },
  {
   "cell_type": "code",
   "execution_count": 28,
   "id": "26ee9355-56b3-4ae2-8c72-1142bbdbb509",
   "metadata": {},
   "outputs": [
    {
     "name": "stdout",
     "output_type": "stream",
     "text": [
      "(0, 0, 0) 1\n",
      "(0, 0, 1) 2\n",
      "(0, 0, 2) 3\n",
      "(0, 0, 3) 4\n",
      "(0, 0, 4) 5\n",
      "(0, 0, 5) 6\n",
      "(0, 1, 0) 7\n",
      "(0, 1, 1) 8\n",
      "(0, 1, 2) 9\n",
      "(0, 1, 3) 10\n",
      "(0, 1, 4) 11\n",
      "(0, 1, 5) 12\n"
     ]
    }
   ],
   "source": [
    "x=np.array([[[1,2,3,4,5,6],[7,8,9,10,11,12]]])\n",
    "for i,j in np.ndenumerate(x):\n",
    "    print(i,j)"
   ]
  },
  {
   "cell_type": "markdown",
   "id": "8da74928-0c5c-4105-b9bf-6f57a270f182",
   "metadata": {},
   "source": [
    "# copy n view"
   ]
  },
  {
   "cell_type": "code",
   "execution_count": 29,
   "id": "f76e3cb1-44a1-43e8-a97b-8ef5691f13a9",
   "metadata": {},
   "outputs": [
    {
     "name": "stdout",
     "output_type": "stream",
     "text": [
      "[1 2 3 4 5 6]\n",
      "[1 2 3 4 5 6]\n"
     ]
    }
   ],
   "source": [
    "x=np.array([1,2,3,4,5,6])\n",
    "x1=x.copy()   \n",
    "print(x)\n",
    "print(x1)"
   ]
  },
  {
   "cell_type": "code",
   "execution_count": 31,
   "id": "00488bfe-df0f-403b-a316-992d802cd984",
   "metadata": {},
   "outputs": [
    {
     "name": "stdout",
     "output_type": "stream",
     "text": [
      "[  1 100   3   4   5   6]\n",
      "[1 2 3 4 5 6]\n"
     ]
    }
   ],
   "source": [
    "x=np.array([1,2,3,4,5,6])\n",
    "x1=x.copy()      # new array and no change reflection\n",
    "x[1]=100\n",
    "print(x)\n",
    "print(x1)"
   ]
  },
  {
   "cell_type": "code",
   "execution_count": 30,
   "id": "a0b7c627-69a6-4010-9f9e-989601ec0df5",
   "metadata": {},
   "outputs": [
    {
     "name": "stdout",
     "output_type": "stream",
     "text": [
      "[1 2 3 4 5 6]\n",
      "[1 2 3 4 5 6]\n"
     ]
    }
   ],
   "source": [
    "x=np.array([1,2,3,4,5,6])\n",
    "x1=x.view()    \n",
    "print(x)\n",
    "print(x1)"
   ]
  },
  {
   "cell_type": "code",
   "execution_count": 32,
   "id": "63d32cb1-ef9e-4a1b-a233-bb49d18bacbc",
   "metadata": {},
   "outputs": [
    {
     "name": "stdout",
     "output_type": "stream",
     "text": [
      "[  1   2 300   4   5   6]\n",
      "[  1   2 300   4   5   6]\n"
     ]
    }
   ],
   "source": [
    "x=np.array([1,2,3,4,5,6])\n",
    "x1=x.view()     # original array and change reflectes\n",
    "x[2]=300\n",
    "print(x)\n",
    "print(x1)"
   ]
  },
  {
   "cell_type": "markdown",
   "id": "aad30915-41dc-4e70-b21c-edb6ef0ef65c",
   "metadata": {},
   "source": [
    "# join n split function \n",
    "same length to join"
   ]
  },
  {
   "cell_type": "code",
   "execution_count": 34,
   "id": "c430fcb2-dfbc-424a-a980-365dfff7aae0",
   "metadata": {},
   "outputs": [
    {
     "name": "stdout",
     "output_type": "stream",
     "text": [
      "[1 2 3 4 5 6 7 8]\n"
     ]
    }
   ],
   "source": [
    "v=np.array([1,2,3,4])\n",
    "v1=np.array([5,6,7,8])\n",
    "a=np.concatenate((v,v1))\n",
    "print(a)"
   ]
  },
  {
   "cell_type": "code",
   "execution_count": 36,
   "id": "f861ee3d-9123-4dcd-96f8-b0961f019155",
   "metadata": {},
   "outputs": [
    {
     "name": "stdout",
     "output_type": "stream",
     "text": [
      "[[1 2 5 6]\n",
      " [3 4 7 8]]\n"
     ]
    }
   ],
   "source": [
    "v=np.array([[1,2],[3,4]])\n",
    "v1=np.array([[5,6],[7,8]])\n",
    "a=np.concatenate((v,v1),axis=1)\n",
    "print(a)"
   ]
  },
  {
   "cell_type": "code",
   "execution_count": 37,
   "id": "24398b99-8398-4245-9998-320c2d92f2b5",
   "metadata": {},
   "outputs": [
    {
     "name": "stdout",
     "output_type": "stream",
     "text": [
      "[[1 2]\n",
      " [3 4]\n",
      " [5 6]\n",
      " [7 8]]\n"
     ]
    }
   ],
   "source": [
    "v=np.array([[1,2],[3,4]])\n",
    "v1=np.array([[5,6],[7,8]])\n",
    "a=np.concatenate((v,v1),axis=0)\n",
    "print(a)"
   ]
  },
  {
   "cell_type": "code",
   "execution_count": 38,
   "id": "e7d33c8a-687a-47c2-b094-1051f86954d5",
   "metadata": {},
   "outputs": [
    {
     "name": "stdout",
     "output_type": "stream",
     "text": [
      "[[[1 2]\n",
      "  [3 4]]\n",
      "\n",
      " [[5 6]\n",
      "  [7 8]]]\n"
     ]
    }
   ],
   "source": [
    "v=np.array([[1,2],[3,4]])\n",
    "v1=np.array([[5,6],[7,8]])\n",
    "a=np.stack((v,v1),axis=0)\n",
    "print(a)"
   ]
  },
  {
   "cell_type": "code",
   "execution_count": 39,
   "id": "2ad76566-a5e1-410a-adc2-36c8a77d5bfb",
   "metadata": {},
   "outputs": [
    {
     "name": "stdout",
     "output_type": "stream",
     "text": [
      "[[[1 2]\n",
      "  [5 6]]\n",
      "\n",
      " [[3 4]\n",
      "  [7 8]]]\n"
     ]
    }
   ],
   "source": [
    "v=np.array([[1,2],[3,4]])\n",
    "v1=np.array([[5,6],[7,8]])\n",
    "a=np.stack((v,v1),axis=1)\n",
    "print(a)"
   ]
  },
  {
   "cell_type": "code",
   "execution_count": 40,
   "id": "c373789a-504e-4a1f-9a9d-b7c176a82494",
   "metadata": {},
   "outputs": [
    {
     "name": "stdout",
     "output_type": "stream",
     "text": [
      "[[1 2 5 6]\n",
      " [3 4 7 8]]\n"
     ]
    }
   ],
   "source": [
    "v=np.array([[1,2],[3,4]])\n",
    "v1=np.array([[5,6],[7,8]])\n",
    "a=np.hstack((v,v1))   #row\n",
    "print(a)"
   ]
  },
  {
   "cell_type": "code",
   "execution_count": 41,
   "id": "f8360619-1d92-4ba6-94ec-3c71b73ef8b0",
   "metadata": {},
   "outputs": [
    {
     "name": "stdout",
     "output_type": "stream",
     "text": [
      "[[1 2]\n",
      " [3 4]\n",
      " [5 6]\n",
      " [7 8]]\n"
     ]
    }
   ],
   "source": [
    "v=np.array([[1,2],[3,4]])\n",
    "v1=np.array([[5,6],[7,8]])\n",
    "a=np.vstack((v,v1))   #column\n",
    "print(a)"
   ]
  },
  {
   "cell_type": "code",
   "execution_count": 42,
   "id": "df1670e5-788a-4374-a172-1a2d9d49a87e",
   "metadata": {},
   "outputs": [
    {
     "name": "stdout",
     "output_type": "stream",
     "text": [
      "[[[1 5]\n",
      "  [2 6]]\n",
      "\n",
      " [[3 7]\n",
      "  [4 8]]]\n"
     ]
    }
   ],
   "source": [
    "v=np.array([[1,2],[3,4]])\n",
    "v1=np.array([[5,6],[7,8]])\n",
    "a=np.dstack((v,v1))   #height\n",
    "print(a)"
   ]
  },
  {
   "cell_type": "code",
   "execution_count": 45,
   "id": "1e44b408-ba5a-4ac4-a3ce-3e5072edcae6",
   "metadata": {},
   "outputs": [
    {
     "name": "stdout",
     "output_type": "stream",
     "text": [
      "[array([1, 2]), array([3, 4]), array([5, 6])]\n",
      "<class 'list'>\n",
      "[1 2]\n"
     ]
    }
   ],
   "source": [
    "x=np.array([1,2,3,4,5,6])\n",
    "a=np.array_split(x,3)\n",
    "print(a)\n",
    "print(type(a))\n",
    "print(a[0])"
   ]
  },
  {
   "cell_type": "code",
   "execution_count": 46,
   "id": "18fd84e2-74d9-4424-a5fa-dd9ff868f5d7",
   "metadata": {},
   "outputs": [
    {
     "name": "stdout",
     "output_type": "stream",
     "text": [
      "[array([[1, 2]]), array([[3, 4]]), array([[5, 6]])]\n",
      "<class 'list'>\n"
     ]
    }
   ],
   "source": [
    "x=np.array([[1,2],[3,4],[5,6]])\n",
    "a=np.array_split(x,3)\n",
    "print(a)\n",
    "print(type(a))"
   ]
  },
  {
   "cell_type": "code",
   "execution_count": 47,
   "id": "ad5cb8d9-8882-4f85-9270-54aee29253af",
   "metadata": {},
   "outputs": [
    {
     "name": "stdout",
     "output_type": "stream",
     "text": [
      "[array([[1],\n",
      "       [3],\n",
      "       [5]]), array([[2],\n",
      "       [4],\n",
      "       [6]]), array([], shape=(3, 0), dtype=int32)]\n",
      "<class 'list'>\n"
     ]
    }
   ],
   "source": [
    "x=np.array([[1,2],[3,4],[5,6]])\n",
    "a=np.array_split(x,3,axis=1)\n",
    "print(a)\n",
    "print(type(a))"
   ]
  },
  {
   "cell_type": "markdown",
   "id": "4ef7117b-005e-49a2-a2f2-459a1e5f3fca",
   "metadata": {},
   "source": [
    "# search sort search sorted filter"
   ]
  },
  {
   "cell_type": "code",
   "execution_count": 48,
   "id": "5202fca0-f4f0-472e-bf77-d359dbc6d9bc",
   "metadata": {},
   "outputs": [
    {
     "name": "stdout",
     "output_type": "stream",
     "text": [
      "(array([1, 8], dtype=int64),)\n"
     ]
    }
   ],
   "source": [
    "x=np.array([1,2,3,4,5,6,3,4,2,5,6,3,4,5])\n",
    "a=np.where(x==2)\n",
    "print(a)"
   ]
  },
  {
   "cell_type": "code",
   "execution_count": 50,
   "id": "8466f1ba-cfc3-45a6-8960-052d1f4a3829",
   "metadata": {},
   "outputs": [
    {
     "name": "stdout",
     "output_type": "stream",
     "text": [
      "(array([ 1,  3,  5,  7,  8, 10, 12], dtype=int64),)\n"
     ]
    }
   ],
   "source": [
    "x=np.array([1,2,3,4,5,6,3,4,2,5,6,3,4,5])\n",
    "a=np.where(x%2==0)\n",
    "print(a)"
   ]
  },
  {
   "cell_type": "code",
   "execution_count": 51,
   "id": "bd71706d-6013-4c7f-95e6-805672f0bda4",
   "metadata": {},
   "outputs": [
    {
     "name": "stdout",
     "output_type": "stream",
     "text": [
      "4\n"
     ]
    }
   ],
   "source": [
    "x=np.array([1,2,3,4,5,6,7,8,9,10])\n",
    "a=np.searchsorted(x,5)\n",
    "print(a)"
   ]
  },
  {
   "cell_type": "code",
   "execution_count": 52,
   "id": "7babd894-deab-4624-afc8-f09337159dc5",
   "metadata": {},
   "outputs": [
    {
     "name": "stdout",
     "output_type": "stream",
     "text": [
      "5\n"
     ]
    }
   ],
   "source": [
    "x=np.array([1,2,3,4,5,6,7,8,9,10])\n",
    "a=np.searchsorted(x,5,side=\"right\")\n",
    "print(a)"
   ]
  },
  {
   "cell_type": "code",
   "execution_count": 54,
   "id": "a745ec61-e64f-4cd7-8dd4-ec1e9baaa7ff",
   "metadata": {},
   "outputs": [
    {
     "name": "stdout",
     "output_type": "stream",
     "text": [
      "[1 2 2 3 3 3 4 4 4 5 5 5 6 6]\n"
     ]
    }
   ],
   "source": [
    "x=np.array([1,2,3,4,5,6,3,4,2,5,6,3,4,5])\n",
    "a=np.sort(x)\n",
    "print(a)"
   ]
  },
  {
   "cell_type": "code",
   "execution_count": 55,
   "id": "15de51a5-0cc3-45a9-b90a-46058655a78f",
   "metadata": {},
   "outputs": [
    {
     "name": "stdout",
     "output_type": "stream",
     "text": [
      "['a' 'f' 'i' 's' 't' 'y']\n"
     ]
    }
   ],
   "source": [
    "x=np.array([\"a\",\"f\",\"s\",\"y\",\"t\",\"i\"])\n",
    "a=np.sort(x)\n",
    "print(a)"
   ]
  },
  {
   "cell_type": "code",
   "execution_count": 56,
   "id": "84986c19-8997-4622-b32d-06e65c8b3069",
   "metadata": {},
   "outputs": [
    {
     "name": "stdout",
     "output_type": "stream",
     "text": [
      "[[3 3 7]\n",
      " [2 4 7]\n",
      " [2 3 4]\n",
      " [3 5 6]]\n"
     ]
    }
   ],
   "source": [
    "x=np.array([[3,7,3],[2,7,4],[3,4,2],[5,6,3]])\n",
    "a=np.sort(x)\n",
    "print(a)"
   ]
  },
  {
   "cell_type": "code",
   "execution_count": 58,
   "id": "e21f8d8b-48a5-4980-b43c-8317bd1922a4",
   "metadata": {},
   "outputs": [
    {
     "name": "stdout",
     "output_type": "stream",
     "text": [
      "['a' 's']\n"
     ]
    }
   ],
   "source": [
    "x=np.array([\"a\",\"f\",\"s\",\"y\"])\n",
    "f=[True,False,True,False]\n",
    "a=x[f]   # filter function\n",
    "print(a)"
   ]
  },
  {
   "cell_type": "markdown",
   "id": "f25495ef-21d1-4c33-90d9-09bdb4d53edc",
   "metadata": {},
   "source": [
    "# shuffle unique resize flatten ravel"
   ]
  },
  {
   "cell_type": "code",
   "execution_count": 61,
   "id": "c992c279-4832-4d33-a050-f1aaa4feaab3",
   "metadata": {},
   "outputs": [
    {
     "name": "stdout",
     "output_type": "stream",
     "text": [
      "[6 4 2 1 3 5]\n"
     ]
    }
   ],
   "source": [
    "x=np.array([1,2,3,4,5,6])\n",
    "np.random.shuffle(x)\n",
    "print(x)"
   ]
  },
  {
   "cell_type": "code",
   "execution_count": 62,
   "id": "90819110-2364-423a-bb8c-ad4fc69f866d",
   "metadata": {},
   "outputs": [
    {
     "name": "stdout",
     "output_type": "stream",
     "text": [
      "[1 2 3 4 5 6]\n"
     ]
    }
   ],
   "source": [
    "x=np.array([1,2,3,4,5,6,3,4,2,5,6,3,4,5])\n",
    "a=np.unique(x)\n",
    "print(a)"
   ]
  },
  {
   "cell_type": "code",
   "execution_count": 65,
   "id": "9d522684-17bb-4c0c-8946-e12999dc655f",
   "metadata": {},
   "outputs": [
    {
     "name": "stdout",
     "output_type": "stream",
     "text": [
      "(array([1, 2, 3, 4, 5, 6]), array([0, 1, 2, 3, 4, 5], dtype=int64), array([1, 2, 3, 3, 3, 2], dtype=int64))\n"
     ]
    }
   ],
   "source": [
    "x=np.array([1,2,3,4,5,6,3,4,2,5,6,3,4,5])\n",
    "a=np.unique(x,return_index=True,return_counts=True)\n",
    "print(a)"
   ]
  },
  {
   "cell_type": "code",
   "execution_count": 66,
   "id": "294227e3-6db0-43fb-8917-d2cd0e7ba4d4",
   "metadata": {},
   "outputs": [
    {
     "name": "stdout",
     "output_type": "stream",
     "text": [
      "[[1 4 5 6 3]\n",
      " [4 2 5 6 3]]\n"
     ]
    }
   ],
   "source": [
    "x=np.array([1,4,5,6,3,4,2,5,6,3])\n",
    "a=np.resize(x,(2,5))\n",
    "print(a)"
   ]
  },
  {
   "cell_type": "code",
   "execution_count": 69,
   "id": "bb7b6b68-78f5-4a06-bfe4-34851f477452",
   "metadata": {},
   "outputs": [
    {
     "name": "stdout",
     "output_type": "stream",
     "text": [
      "[1 4 5 6 3 4 2 5 6 3]\n",
      "[1 4 5 6 3 4 2 5 6 3]\n"
     ]
    }
   ],
   "source": [
    "print(a.flatten())    # by default c\n",
    "print(a.ravel())"
   ]
  },
  {
   "cell_type": "code",
   "execution_count": 70,
   "id": "f2088ac6-01ab-44fa-9925-8e01b7bf18e0",
   "metadata": {},
   "outputs": [
    {
     "name": "stdout",
     "output_type": "stream",
     "text": [
      "[1 4 4 2 5 5 6 6 3 3]\n",
      "[1 4 4 2 5 5 6 6 3 3]\n"
     ]
    }
   ],
   "source": [
    "print(a.flatten(order=\"F\"))    \n",
    "print(a.ravel(order=\"F\"))    "
   ]
  },
  {
   "cell_type": "code",
   "execution_count": 73,
   "id": "d1d0f72f-aa42-46f1-bff0-63d217ca12f5",
   "metadata": {},
   "outputs": [
    {
     "name": "stdout",
     "output_type": "stream",
     "text": [
      "[1 4 5 6 3 4 2 5 6 3]\n",
      "[1 4 5 6 3 4 2 5 6 3]\n"
     ]
    }
   ],
   "source": [
    "print(a.flatten(order=\"A\"))  \n",
    "print(a.ravel(order=\"A\"))    "
   ]
  },
  {
   "cell_type": "code",
   "execution_count": 74,
   "id": "f1dc978d-5e73-4a9c-b8c1-a1a61e118c92",
   "metadata": {},
   "outputs": [
    {
     "name": "stdout",
     "output_type": "stream",
     "text": [
      "[1 4 5 6 3 4 2 5 6 3]\n",
      "[1 4 5 6 3 4 2 5 6 3]\n"
     ]
    }
   ],
   "source": [
    "print(a.flatten(order=\"k\"))\n",
    "print(a.ravel(order=\"K\"))    "
   ]
  },
  {
   "cell_type": "markdown",
   "id": "de15d028-fe5b-4300-b41d-e2a9c3b999c4",
   "metadata": {},
   "source": [
    "# insert n delete"
   ]
  },
  {
   "cell_type": "code",
   "execution_count": 76,
   "id": "5db8ac7d-8e5e-407d-8575-d23d34011e62",
   "metadata": {},
   "outputs": [
    {
     "name": "stdout",
     "output_type": "stream",
     "text": [
      "[1 2 3 5 4 5 6]\n"
     ]
    }
   ],
   "source": [
    "x=np.array([1,2,3,4,5,6])\n",
    "a=np.insert(x,3,5)\n",
    "print(a)"
   ]
  },
  {
   "cell_type": "code",
   "execution_count": 77,
   "id": "414f7ab9-1721-47a3-aae7-d7c1619f472c",
   "metadata": {},
   "outputs": [
    {
     "name": "stdout",
     "output_type": "stream",
     "text": [
      "[1 2 3 5 4 5 5 6]\n"
     ]
    }
   ],
   "source": [
    "x=np.array([1,2,3,4,5,6])\n",
    "a=np.insert(x,(3,4),5)\n",
    "print(a)"
   ]
  },
  {
   "cell_type": "code",
   "execution_count": 78,
   "id": "2f14ad32-48b6-41f1-87a0-3d932cad94ce",
   "metadata": {},
   "outputs": [
    {
     "name": "stdout",
     "output_type": "stream",
     "text": [
      "[1 2 3 5 4 5 5 6]\n"
     ]
    }
   ],
   "source": [
    "x=np.array([1,2,3,4,5,6])\n",
    "a=np.insert(x,(3,4),5.3)\n",
    "print(a)"
   ]
  },
  {
   "cell_type": "code",
   "execution_count": 79,
   "id": "c690f1d2-a823-436d-ad83-c4eef9a82ce9",
   "metadata": {},
   "outputs": [
    {
     "name": "stdout",
     "output_type": "stream",
     "text": [
      "[[1 2]\n",
      " [3 4]\n",
      " [5 5]\n",
      " [5 6]]\n"
     ]
    }
   ],
   "source": [
    "x=np.array([[1,2],[3,4],[5,6]])\n",
    "a=np.insert(x,2,5,axis=0)\n",
    "print(a)"
   ]
  },
  {
   "cell_type": "code",
   "execution_count": 80,
   "id": "96dc2c61-bfc5-4bfd-9405-f98074263dd7",
   "metadata": {},
   "outputs": [
    {
     "name": "stdout",
     "output_type": "stream",
     "text": [
      "[[1 2 5]\n",
      " [3 4 5]\n",
      " [5 6 5]]\n"
     ]
    }
   ],
   "source": [
    "x=np.array([[1,2],[3,4],[5,6]])\n",
    "a=np.insert(x,2,5,axis=1)\n",
    "print(a)"
   ]
  },
  {
   "cell_type": "code",
   "execution_count": 81,
   "id": "50593bde-8780-4644-ac78-25377bf8b258",
   "metadata": {},
   "outputs": [
    {
     "name": "stdout",
     "output_type": "stream",
     "text": [
      "[[1 2 5]\n",
      " [3 4 3]\n",
      " [5 6 4]]\n"
     ]
    }
   ],
   "source": [
    "x=np.array([[1,2],[3,4],[5,6]])\n",
    "a=np.insert(x,2,[5,3,4],axis=1)\n",
    "print(a)"
   ]
  },
  {
   "cell_type": "code",
   "execution_count": 83,
   "id": "33427380-0e9a-4046-b4e4-372472e610e9",
   "metadata": {},
   "outputs": [
    {
     "name": "stdout",
     "output_type": "stream",
     "text": [
      "[1 2 3 4 5 6 2]\n"
     ]
    }
   ],
   "source": [
    "x=np.array([1,2,3,4,5,6])\n",
    "a=np.append(x,2)\n",
    "print(a)"
   ]
  },
  {
   "cell_type": "code",
   "execution_count": 86,
   "id": "dd9c834a-6839-41ec-a548-92727dda8d1e",
   "metadata": {},
   "outputs": [
    {
     "name": "stdout",
     "output_type": "stream",
     "text": [
      "[[1 2]\n",
      " [3 4]\n",
      " [5 6]\n",
      " [4 5]]\n"
     ]
    }
   ],
   "source": [
    "x=np.array([[1,2],[3,4],[5,6]])\n",
    "a=np.append(x,[[4,5]],axis=0)\n",
    "print(a)"
   ]
  },
  {
   "cell_type": "code",
   "execution_count": 91,
   "id": "7218b4fe-a89a-49d3-ac17-7d8bfe9d1754",
   "metadata": {},
   "outputs": [
    {
     "ename": "ValueError",
     "evalue": "all the input array dimensions except for the concatenation axis must match exactly, but along dimension 0, the array at index 0 has size 3 and the array at index 1 has size 1",
     "output_type": "error",
     "traceback": [
      "\u001b[1;31m---------------------------------------------------------------------------\u001b[0m",
      "\u001b[1;31mValueError\u001b[0m                                Traceback (most recent call last)",
      "Cell \u001b[1;32mIn[91], line 2\u001b[0m\n\u001b[0;32m      1\u001b[0m x\u001b[38;5;241m=\u001b[39mnp\u001b[38;5;241m.\u001b[39marray([[\u001b[38;5;241m1\u001b[39m,\u001b[38;5;241m2\u001b[39m],[\u001b[38;5;241m3\u001b[39m,\u001b[38;5;241m4\u001b[39m],[\u001b[38;5;241m5\u001b[39m,\u001b[38;5;241m6\u001b[39m]])\n\u001b[1;32m----> 2\u001b[0m a\u001b[38;5;241m=\u001b[39m\u001b[43mnp\u001b[49m\u001b[38;5;241;43m.\u001b[39;49m\u001b[43mappend\u001b[49m\u001b[43m(\u001b[49m\u001b[43mx\u001b[49m\u001b[43m,\u001b[49m\u001b[43m[\u001b[49m\u001b[43m[\u001b[49m\u001b[38;5;241;43m4\u001b[39;49m\u001b[43m,\u001b[49m\u001b[38;5;241;43m3\u001b[39;49m\u001b[43m,\u001b[49m\u001b[38;5;241;43m4\u001b[39;49m\u001b[43m]\u001b[49m\u001b[43m]\u001b[49m\u001b[43m,\u001b[49m\u001b[43maxis\u001b[49m\u001b[38;5;241;43m=\u001b[39;49m\u001b[38;5;241;43m1\u001b[39;49m\u001b[43m)\u001b[49m\n\u001b[0;32m      3\u001b[0m \u001b[38;5;28mprint\u001b[39m(a)\n",
      "File \u001b[1;32m~\\AppData\\Local\\Programs\\Python\\Python312\\Lib\\site-packages\\numpy\\lib\\function_base.py:5618\u001b[0m, in \u001b[0;36mappend\u001b[1;34m(arr, values, axis)\u001b[0m\n\u001b[0;32m   5616\u001b[0m     values \u001b[38;5;241m=\u001b[39m ravel(values)\n\u001b[0;32m   5617\u001b[0m     axis \u001b[38;5;241m=\u001b[39m arr\u001b[38;5;241m.\u001b[39mndim\u001b[38;5;241m-\u001b[39m\u001b[38;5;241m1\u001b[39m\n\u001b[1;32m-> 5618\u001b[0m \u001b[38;5;28;01mreturn\u001b[39;00m \u001b[43mconcatenate\u001b[49m\u001b[43m(\u001b[49m\u001b[43m(\u001b[49m\u001b[43marr\u001b[49m\u001b[43m,\u001b[49m\u001b[43m \u001b[49m\u001b[43mvalues\u001b[49m\u001b[43m)\u001b[49m\u001b[43m,\u001b[49m\u001b[43m \u001b[49m\u001b[43maxis\u001b[49m\u001b[38;5;241;43m=\u001b[39;49m\u001b[43maxis\u001b[49m\u001b[43m)\u001b[49m\n",
      "\u001b[1;31mValueError\u001b[0m: all the input array dimensions except for the concatenation axis must match exactly, but along dimension 0, the array at index 0 has size 3 and the array at index 1 has size 1"
     ]
    }
   ],
   "source": [
    "x=np.array([[1,2],[3,4],[5,6]])\n",
    "a=np.append(x,[[4,3,4]],axis=1)\n",
    "print(a)"
   ]
  },
  {
   "cell_type": "code",
   "execution_count": 92,
   "id": "472826c3-c118-4e4d-a564-149b92f0f496",
   "metadata": {},
   "outputs": [
    {
     "name": "stdout",
     "output_type": "stream",
     "text": [
      "[1 2 4 5 6]\n"
     ]
    }
   ],
   "source": [
    "x=np.array([1,2,3,4,5,6])\n",
    "d=np.delete(x,2)\n",
    "print(d)"
   ]
  },
  {
   "cell_type": "markdown",
   "id": "9f0adf66-9245-499a-b21e-4c705feb1a0d",
   "metadata": {},
   "source": [
    "# matrix"
   ]
  },
  {
   "cell_type": "code",
   "execution_count": 93,
   "id": "6e3687fb-0c5a-439f-8128-ce6987a070cd",
   "metadata": {},
   "outputs": [
    {
     "name": "stdout",
     "output_type": "stream",
     "text": [
      "[[1 2 3]\n",
      " [4 5 6]\n",
      " [7 8 9]]\n",
      "<class 'numpy.matrix'>\n"
     ]
    }
   ],
   "source": [
    "x=np.matrix([[1,2,3],[4,5,6],[7,8,9]])\n",
    "print(x)\n",
    "print(type(x))"
   ]
  },
  {
   "cell_type": "code",
   "execution_count": 96,
   "id": "509158cb-bd7b-44d4-8c45-8a470ef39d46",
   "metadata": {},
   "outputs": [
    {
     "name": "stdout",
     "output_type": "stream",
     "text": [
      "[[12 14 16]\n",
      " [18 20 22]\n",
      " [24 26 28]]\n",
      "\n",
      "[[-10 -10 -10]\n",
      " [-10 -10 -10]\n",
      " [-10 -10 -10]]\n",
      "\n",
      "[[ 90  96 102]\n",
      " [216 231 246]\n",
      " [342 366 390]]\n",
      "\n",
      "[[ 90  96 102]\n",
      " [216 231 246]\n",
      " [342 366 390]]\n"
     ]
    }
   ],
   "source": [
    "x=np.matrix([[1,2,3],[4,5,6],[7,8,9]])\n",
    "x1=np.matrix([[11,12,13],[14,15,16],[17,18,19]])\n",
    "print(x+x1)\n",
    "print()\n",
    "print(x-x1)\n",
    "print()\n",
    "print(x*x1)\n",
    "print()\n",
    "print(x.dot(x1))"
   ]
  },
  {
   "cell_type": "code",
   "execution_count": 99,
   "id": "ae07b648-dc85-4299-8152-deaaf065b987",
   "metadata": {},
   "outputs": [
    {
     "name": "stdout",
     "output_type": "stream",
     "text": [
      "[[1 4 7]\n",
      " [2 5 8]\n",
      " [3 6 9]]\n",
      "\n",
      "[[1 4 7]\n",
      " [2 5 8]\n",
      " [3 6 9]]\n"
     ]
    }
   ],
   "source": [
    "x=np.matrix([[1,2,3],[4,5,6],[7,8,9]])\n",
    "print(np.transpose(x))\n",
    "print()\n",
    "print(x.T)"
   ]
  },
  {
   "cell_type": "code",
   "execution_count": 100,
   "id": "45dbc74f-9901-47ee-a3b6-6f7b8aae7c8a",
   "metadata": {},
   "outputs": [
    {
     "name": "stdout",
     "output_type": "stream",
     "text": [
      "[[1 4 7]\n",
      " [2 5 8]\n",
      " [3 6 9]]\n"
     ]
    }
   ],
   "source": [
    "x=np.matrix([[1,2,3],[4,5,6],[7,8,9]])\n",
    "print(np.swapaxes(x,0,1))"
   ]
  },
  {
   "cell_type": "code",
   "execution_count": 102,
   "id": "77e62565-75ff-4e84-834a-d9613c36dba7",
   "metadata": {},
   "outputs": [
    {
     "name": "stdout",
     "output_type": "stream",
     "text": [
      "[[-1.66666667  0.66666667]\n",
      " [ 1.33333333 -0.33333333]]\n"
     ]
    }
   ],
   "source": [
    "x=np.matrix([[1,2],[4,5]])\n",
    "print(np.linalg.inv(x))"
   ]
  },
  {
   "cell_type": "code",
   "execution_count": 105,
   "id": "bdbb843f-8c3a-4457-aaa2-4b9d1aadc2f7",
   "metadata": {},
   "outputs": [
    {
     "name": "stdout",
     "output_type": "stream",
     "text": [
      "[[ 9 12]\n",
      " [24 33]]\n",
      "\n",
      "[[1 0]\n",
      " [0 1]]\n",
      "\n",
      "[[ 3.66666667 -1.33333333]\n",
      " [-2.66666667  1.        ]]\n"
     ]
    }
   ],
   "source": [
    "print(np.linalg.matrix_power(x,2))\n",
    "print()\n",
    "print(np.linalg.matrix_power(x,0))\n",
    "print()\n",
    "print(np.linalg.matrix_power(x,-2))"
   ]
  },
  {
   "cell_type": "code",
   "execution_count": 106,
   "id": "d1545479-70fb-4ca5-87e3-046f81a36cf4",
   "metadata": {},
   "outputs": [
    {
     "name": "stdout",
     "output_type": "stream",
     "text": [
      "-2.9999999999999996\n"
     ]
    }
   ],
   "source": [
    "print(np.linalg.det(x))"
   ]
  }
 ],
 "metadata": {
  "kernelspec": {
   "display_name": "Python 3 (ipykernel)",
   "language": "python",
   "name": "python3"
  },
  "language_info": {
   "codemirror_mode": {
    "name": "ipython",
    "version": 3
   },
   "file_extension": ".py",
   "mimetype": "text/x-python",
   "name": "python",
   "nbconvert_exporter": "python",
   "pygments_lexer": "ipython3",
   "version": "3.12.3"
  }
 },
 "nbformat": 4,
 "nbformat_minor": 5
}
